{
 "cells": [
  {
   "cell_type": "markdown",
   "metadata": {},
   "source": [
    "### Import Required Libraries"
   ]
  },
  {
   "cell_type": "code",
   "execution_count": 1,
   "metadata": {},
   "outputs": [
    {
     "name": "stdout",
     "output_type": "stream",
     "text": [
      "--------------------------------------------------\n"
     ]
    },
    {
     "name": "stderr",
     "output_type": "stream",
     "text": [
      "/Users/ram/anaconda/lib/python2.7/site-packages/sklearn/cross_validation.py:41: DeprecationWarning: This module was deprecated in version 0.18 in favor of the model_selection module into which all the refactored classes and functions are moved. Also note that the interface of the new CV iterators are different from that of this module. This module will be removed in 0.20.\n",
      "  \"This module will be removed in 0.20.\", DeprecationWarning)\n"
     ]
    }
   ],
   "source": [
    "#Import Required Libraries\n",
    "import numpy as np # for efficient numerical computations\n",
    "import pandas as pd # for data management\n",
    "import matplotlib.pyplot as plt #to customize visualizations\n",
    "import seaborn as sns #for easy/common visualizations\n",
    "\n",
    "#Importing sklearn libraries\n",
    "from sklearn.model_selection import cross_val_score\n",
    "from sklearn.cross_validation import StratifiedKFold\n",
    "from sklearn import cross_validation\n",
    "from sklearn.ensemble import RandomForestRegressor\n",
    "from sklearn.model_selection import GridSearchCV\n",
    "from sklearn.preprocessing import LabelEncoder\n",
    "from sklearn.model_selection import cross_val_score\n",
    "from sklearn import linear_model\n",
    "from sklearn import tree\n",
    "from sklearn import svm\n",
    "from sklearn.svm import SVC\n",
    "from sklearn.neighbors import KNeighborsRegressor\n",
    "from sklearn.ensemble import RandomForestRegressor\n",
    "from sklearn.ensemble import AdaBoostClassifier\n",
    "from sklearn.ensemble import GradientBoostingRegressor\n",
    "\n",
    "#Importing xgboost\n",
    "from xgboost import XGBRegressor\n",
    "\n",
    "import warnings\n",
    "warnings.simplefilter(\"ignore\")\n",
    "\n",
    "#Importing other required libraries\n",
    "import os\n",
    "import re\n",
    "import csv\n",
    "import operator\n",
    "import random\n",
    "import datetime\n",
    "from datetime import datetime\n",
    "import warnings\n",
    "color = sns.color_palette()\n",
    "%matplotlib inline\n",
    "\n",
    "random.seed(47)\n",
    "print'--------------------------------------------------'"
   ]
  },
  {
   "cell_type": "markdown",
   "metadata": {},
   "source": [
    "### Benchmark Model"
   ]
  },
  {
   "cell_type": "code",
   "execution_count": 2,
   "metadata": {},
   "outputs": [
    {
     "name": "stdout",
     "output_type": "stream",
     "text": [
      "RandomForestRegressor Accuracy: -0.08261\n",
      "--------------------------------------------------\n"
     ]
    }
   ],
   "source": [
    "#Reading Training Data\n",
    "dftrain = pd.read_csv('train_2016_v2.csv')\n",
    "dfprop = pd.read_csv('properties_2016.csv')\n",
    "\n",
    "#Filling missing values with -1\n",
    "dfprop.fillna(-1,inplace=True)\n",
    "\n",
    "#Merging Datafiles\n",
    "df = pd.merge(dftrain, dfprop, on='parcelid', suffixes=('', '_r'))\n",
    "\n",
    "#Dropping meta columns and casting to accepted dtypes\n",
    "X = df.drop(['parcelid', 'logerror', 'transactiondate',\n",
    "             'propertyzoningdesc', 'propertycountylandusecode'], axis=1)\n",
    "for c in ['hashottuborspa', 'fireplaceflag', 'taxdelinquencyflag']:\n",
    "    X[c] = X[c].astype('bool')\n",
    "    \n",
    "#Applying RandomForestRegressor  \n",
    "clf = RandomForestRegressor()\n",
    "scores = cross_validation.cross_val_score(clf, X, df.logerror, cv=10, scoring='neg_mean_absolute_error')\n",
    "print(\"%s Accuracy: %0.5f\" % (clf.__class__.__name__, scores.mean()))\n",
    "print'--------------------------------------------------'"
   ]
  },
  {
   "cell_type": "markdown",
   "metadata": {},
   "source": [
    "### Data Preprocessing"
   ]
  },
  {
   "cell_type": "code",
   "execution_count": 3,
   "metadata": {},
   "outputs": [
    {
     "name": "stdout",
     "output_type": "stream",
     "text": [
      "('Shape Of Train: ', (90275, 3))\n",
      "('Shape Of Train: ', (2985217, 58))\n",
      "('Shape Of Train: ', (90275, 60))\n",
      "--------------------------------------------------\n"
     ]
    }
   ],
   "source": [
    "#Reading Training Data\n",
    "train = pd.read_csv('train_2016_v2.csv', parse_dates=[\"transactiondate\"])\n",
    "print (\"Shape Of Train: \",train.shape)\n",
    "train.head()\n",
    "\n",
    "#Reading Properties Data\n",
    "prop = pd.read_csv(\"properties_2016.csv\")\n",
    "print (\"Shape Of Train: \",prop.shape)\n",
    "prop.head()\n",
    "\n",
    "#Merging both files to create the train file\n",
    "train = pd.merge(train, prop, on='parcelid', how='left')\n",
    "print (\"Shape Of Train: \",train.shape)\n",
    "train.head()\n",
    "\n",
    "#New Variable - Exploring number of transactions in each month\n",
    "train['New_transaction_month'] = train['transactiondate'].dt.month\n",
    "\n",
    "#Dropping Columns who's %age of NaN values is greater than 70%\n",
    "for col in list(train.columns.values):\n",
    "    nanValues = float(train[col].isnull().sum()) / len(train)\n",
    "    if nanValues > 0.70:\n",
    "        #print col\n",
    "        train = train.drop([col], axis=1)\n",
    "        \n",
    "#Corelation Analysis, dropping highly correlated variables\")\n",
    "for col in ('calculatedbathnbr','fullbathcnt','finishedsquarefeet12','rawcensustractandblock','censustractandblock','landtaxvaluedollarcnt','taxvaluedollarcnt'):\n",
    "    train = train.drop([col], axis=1)\n",
    "    \n",
    "#fill median for numeric null columns\n",
    "for c in train.dtypes[train.dtypes == 'float64'].index.values:\n",
    "    train[c].fillna(train[c].median(), inplace = True)\n",
    "    \n",
    "#Imputing Null values with -1 and encoding Objects\n",
    "for c in train.columns:\n",
    "    train[c]=train[c].fillna(-1)\n",
    "    if train[c].dtype == object:\n",
    "        lbl = LabelEncoder()\n",
    "        lbl.fit(list(train[c].values))\n",
    "        train[c] = lbl.transform(list(train[c].values))\n",
    "         \n",
    "#Dropping out outliers\n",
    "train=train[ train.logerror > -0.417 ]\n",
    "train=train[ train.logerror < 0.418 ]\n",
    "\n",
    "#Processing data\n",
    "for c, dtype in zip(train.columns, train.dtypes):\n",
    "    if dtype == np.float64:\n",
    "        train[c] = train[c].astype(np.float32)\n",
    "\n",
    "#Splitting logerror as test data\n",
    "test = train.logerror\n",
    "\n",
    "#Dropping meta columns and casting to accepted dtypes\n",
    "train = train.drop(['parcelid', 'logerror', 'transactiondate',\n",
    "                'propertyzoningdesc', 'propertycountylandusecode'], axis=1)   \n",
    "print'--------------------------------------------------'"
   ]
  },
  {
   "cell_type": "markdown",
   "metadata": {},
   "source": [
    "### Feature Engineering"
   ]
  },
  {
   "cell_type": "code",
   "execution_count": 4,
   "metadata": {},
   "outputs": [
    {
     "name": "stdout",
     "output_type": "stream",
     "text": [
      "--------------------------------------------------\n"
     ]
    }
   ],
   "source": [
    "#Adding new features\n",
    "\n",
    "#proportion of living area\n",
    "train['New_LivingAreaProp'] = train['calculatedfinishedsquarefeet']/train['lotsizesquarefeet']\n",
    "\n",
    "#Number of properties in the zip\n",
    "zip_count = train['regionidzip'].value_counts().to_dict()\n",
    "train['New_zip_count'] = train['regionidzip'].map(zip_count)\n",
    "\n",
    "#Number of properties in the city\n",
    "city_count = train['regionidcity'].value_counts().to_dict()\n",
    "train['New_city_count'] = train['regionidcity'].map(city_count)\n",
    "print'--------------------------------------------------'"
   ]
  },
  {
   "cell_type": "markdown",
   "metadata": {},
   "source": [
    "### Model Selection"
   ]
  },
  {
   "cell_type": "code",
   "execution_count": 5,
   "metadata": {
    "scrolled": false
   },
   "outputs": [
    {
     "name": "stdout",
     "output_type": "stream",
     "text": [
      "                           Count Column Type\n",
      "0          airconditioningtypeid     float32\n",
      "1                    bathroomcnt     float32\n",
      "2                     bedroomcnt     float32\n",
      "3          buildingqualitytypeid     float32\n",
      "4   calculatedfinishedsquarefeet     float32\n",
      "5                           fips     float32\n",
      "6                   garagecarcnt     float32\n",
      "7                garagetotalsqft     float32\n",
      "8          heatingorsystemtypeid     float32\n",
      "9                       latitude     float32\n",
      "10                     longitude     float32\n",
      "11             lotsizesquarefeet     float32\n",
      "12         propertylandusetypeid     float32\n",
      "13                  regionidcity     float32\n",
      "14                regionidcounty     float32\n",
      "15          regionidneighborhood     float32\n",
      "16                   regionidzip     float32\n",
      "17                       roomcnt     float32\n",
      "18                       unitcnt     float32\n",
      "19                     yearbuilt     float32\n",
      "20    structuretaxvaluedollarcnt     float32\n",
      "21                assessmentyear     float32\n",
      "22                     taxamount     float32\n",
      "23         New_transaction_month       int64\n",
      "24            New_LivingAreaProp     float32\n",
      "25                 New_zip_count       int64\n",
      "26                New_city_count       int64\n",
      "Running XGB Regression\n",
      "Running Linear Regression\n",
      "Running Bayesian Ridge Regression\n",
      "Running Ridge Regression\n",
      "Running Lasso Regression\n",
      "Running Decision Trees\n",
      "Running Random Forest\n",
      "Running KNN\n",
      "Running Gradient Boosted Regressor\n",
      "Returning the best model\n",
      "Model: XGBRegressor(base_score=0.5, booster='gbtree', colsample_bylevel=1,\n",
      "       colsample_bytree=1, gamma=0, learning_rate=0.1, max_delta_step=0,\n",
      "       max_depth=3, min_child_weight=1, missing=None, n_estimators=100,\n",
      "       n_jobs=1, nthread=None, objective='reg:linear', random_state=0,\n",
      "       reg_alpha=0, reg_lambda=1, scale_pos_weight=1, seed=None,\n",
      "       silent=True, subsample=1)\n",
      "Loss: -0.0530361127108\n",
      "Model: GradientBoostingRegressor(alpha=0.9, criterion='friedman_mse', init=None,\n",
      "             learning_rate=0.1, loss='ls', max_depth=3, max_features=None,\n",
      "             max_leaf_nodes=None, min_impurity_decrease=0.0,\n",
      "             min_impurity_split=None, min_samples_leaf=1,\n",
      "             min_samples_split=2, min_weight_fraction_leaf=0.0,\n",
      "             n_estimators=100, presort='auto', random_state=None,\n",
      "             subsample=1.0, verbose=0, warm_start=False)\n",
      "Loss: -0.0530904245252\n",
      "Model: Lasso(alpha=1.0, copy_X=True, fit_intercept=True, max_iter=1000,\n",
      "   normalize=False, positive=False, precompute=False, random_state=None,\n",
      "   selection='cyclic', tol=0.0001, warm_start=False)\n",
      "Loss: -0.0533532241913\n",
      "Model: BayesianRidge(alpha_1=1e-06, alpha_2=1e-06, compute_score=False, copy_X=True,\n",
      "       fit_intercept=True, lambda_1=1e-06, lambda_2=1e-06, n_iter=300,\n",
      "       normalize=False, tol=0.001, verbose=False)\n",
      "Loss: -0.0533737062301\n",
      "Model: Ridge(alpha=1.0, copy_X=True, fit_intercept=True, max_iter=None,\n",
      "   normalize=False, random_state=None, solver='auto', tol=0.001)\n",
      "Loss: -0.0533859935965\n",
      "Model: LinearRegression(copy_X=True, fit_intercept=True, n_jobs=1, normalize=False)\n",
      "Loss: -0.0533859948903\n",
      "Model: RandomForestRegressor(bootstrap=True, criterion='mse', max_depth=None,\n",
      "           max_features='auto', max_leaf_nodes=None,\n",
      "           min_impurity_decrease=0.0, min_impurity_split=None,\n",
      "           min_samples_leaf=1, min_samples_split=2,\n",
      "           min_weight_fraction_leaf=0.0, n_estimators=10, n_jobs=1,\n",
      "           oob_score=False, random_state=None, verbose=0, warm_start=False)\n",
      "Loss: -0.0594988842515\n",
      "Model: KNeighborsRegressor(algorithm='auto', leaf_size=30, metric='minkowski',\n",
      "          metric_params=None, n_jobs=1, n_neighbors=5, p=2,\n",
      "          weights='uniform')\n",
      "Loss: -0.0615386087447\n",
      "Model: DecisionTreeRegressor(criterion='mse', max_depth=None, max_features=None,\n",
      "           max_leaf_nodes=None, min_impurity_decrease=0.0,\n",
      "           min_impurity_split=None, min_samples_leaf=1,\n",
      "           min_samples_split=2, min_weight_fraction_leaf=0.0,\n",
      "           presort=False, random_state=None, splitter='best')\n",
      "Loss: -0.0846246402558\n",
      "--------------------------------------------------\n"
     ]
    }
   ],
   "source": [
    "#Printing out all the Variables\n",
    "dtype_df = train.dtypes.reset_index()\n",
    "dtype_df.columns = [\"Count\", \"Column Type\"]\n",
    "print dtype_df\n",
    "\n",
    "#Testing various Regression models\n",
    "allModels = {} # Dictionary of models and their respective losses\n",
    "\n",
    "print(\"Running XGB Regression\")\n",
    "model = XGBRegressor()\n",
    "predicted = cross_val_score(model, train, test, scoring='neg_mean_absolute_error', cv=10)\n",
    "allModels[model] = predicted.mean()\n",
    "\n",
    "print(\"Running Linear Regression\")\n",
    "model = linear_model.LinearRegression()\n",
    "predicted = cross_val_score(model, train, test, scoring='neg_mean_absolute_error', cv=10)\n",
    "allModels[model] = predicted.mean()\n",
    "\n",
    "print(\"Running Bayesian Ridge Regression\")\n",
    "model = linear_model.BayesianRidge()\n",
    "predicted = cross_val_score(model, train, test, scoring='neg_mean_absolute_error', cv=10)\n",
    "allModels[model] = predicted.mean()\n",
    "\n",
    "print(\"Running Ridge Regression\")\n",
    "model = linear_model.Ridge()\n",
    "predicted = cross_val_score(model, train, test, scoring='neg_mean_absolute_error', cv=10)\n",
    "allModels[model] = predicted.mean()\n",
    "\n",
    "print(\"Running Lasso Regression\")\n",
    "model = linear_model.Lasso()\n",
    "predicted = cross_val_score(model, train, test, scoring='neg_mean_absolute_error', cv=10)\n",
    "allModels[model] = predicted.mean()\n",
    "\n",
    "print(\"Running Decision Trees\")\n",
    "model = tree.DecisionTreeRegressor()\n",
    "predicted = cross_val_score(model, train, test, scoring='neg_mean_absolute_error', cv=10)\n",
    "allModels[model] = predicted.mean()\n",
    "\n",
    "print(\"Running Random Forest\")\n",
    "model = RandomForestRegressor()\n",
    "predicted = cross_val_score(model, train, test, scoring='neg_mean_absolute_error', cv=10)\n",
    "allModels[model] = predicted.mean()\n",
    "\n",
    "print(\"Running KNN\")\n",
    "model = KNeighborsRegressor()\n",
    "predicted = cross_val_score(model, train, test, scoring='neg_mean_absolute_error', cv=10)\n",
    "allModels[model] = predicted.mean()\n",
    "\n",
    "print(\"Running Gradient Boosted Regressor\")\n",
    "model = GradientBoostingRegressor()\n",
    "predicted = cross_val_score(model, train, test, scoring='neg_mean_absolute_error', cv=10)\n",
    "allModels[model] = predicted.mean()\n",
    "\n",
    "print(\"Returning the best model\")\n",
    "sortedModels = sorted(allModels.items(), key=operator.itemgetter(1), reverse=True)\n",
    "for model in sortedModels:\n",
    "    print 'Model:', model[0]\n",
    "    print 'Loss:', model[1]\n",
    "print'--------------------------------------------------'    "
   ]
  },
  {
   "cell_type": "markdown",
   "metadata": {},
   "source": [
    "### Model Tuning - GridSearchCV"
   ]
  },
  {
   "cell_type": "code",
   "execution_count": 6,
   "metadata": {},
   "outputs": [
    {
     "name": "stdout",
     "output_type": "stream",
     "text": [
      "Running Parameter optimization on the Best Model\n",
      "Fitting 3 folds for each of 36 candidates, totalling 108 fits\n",
      "[CV] n_estimators=10, max_depth=3, min_child_weight=1 ................\n",
      "[CV]  n_estimators=10, max_depth=3, min_child_weight=1, score=-0.177955210209, total=   1.2s\n",
      "[CV] n_estimators=10, max_depth=3, min_child_weight=1 ................\n"
     ]
    },
    {
     "name": "stderr",
     "output_type": "stream",
     "text": [
      "[Parallel(n_jobs=1)]: Done   1 out of   1 | elapsed:    1.3s remaining:    0.0s\n"
     ]
    },
    {
     "name": "stdout",
     "output_type": "stream",
     "text": [
      "[CV]  n_estimators=10, max_depth=3, min_child_weight=1, score=-0.179902642965, total=   0.9s\n",
      "[CV] n_estimators=10, max_depth=3, min_child_weight=1 ................\n"
     ]
    },
    {
     "name": "stderr",
     "output_type": "stream",
     "text": [
      "[Parallel(n_jobs=1)]: Done   2 out of   2 | elapsed:    2.3s remaining:    0.0s\n"
     ]
    },
    {
     "name": "stdout",
     "output_type": "stream",
     "text": [
      "[CV]  n_estimators=10, max_depth=3, min_child_weight=1, score=-0.172834858298, total=   0.9s\n",
      "[CV] n_estimators=100, max_depth=3, min_child_weight=1 ...............\n"
     ]
    },
    {
     "name": "stderr",
     "output_type": "stream",
     "text": [
      "[Parallel(n_jobs=1)]: Done   3 out of   3 | elapsed:    3.3s remaining:    0.0s\n"
     ]
    },
    {
     "name": "stdout",
     "output_type": "stream",
     "text": [
      "[CV]  n_estimators=100, max_depth=3, min_child_weight=1, score=-0.0549953505397, total=   8.2s\n",
      "[CV] n_estimators=100, max_depth=3, min_child_weight=1 ...............\n"
     ]
    },
    {
     "name": "stderr",
     "output_type": "stream",
     "text": [
      "[Parallel(n_jobs=1)]: Done   4 out of   4 | elapsed:   11.7s remaining:    0.0s\n"
     ]
    },
    {
     "name": "stdout",
     "output_type": "stream",
     "text": [
      "[CV]  n_estimators=100, max_depth=3, min_child_weight=1, score=-0.052607614547, total=   8.5s\n",
      "[CV] n_estimators=100, max_depth=3, min_child_weight=1 ...............\n"
     ]
    },
    {
     "name": "stderr",
     "output_type": "stream",
     "text": [
      "[Parallel(n_jobs=1)]: Done   5 out of   5 | elapsed:   20.3s remaining:    0.0s\n"
     ]
    },
    {
     "name": "stdout",
     "output_type": "stream",
     "text": [
      "[CV]  n_estimators=100, max_depth=3, min_child_weight=1, score=-0.0519334338605, total=   8.2s\n",
      "[CV] n_estimators=200, max_depth=3, min_child_weight=1 ...............\n"
     ]
    },
    {
     "name": "stderr",
     "output_type": "stream",
     "text": [
      "[Parallel(n_jobs=1)]: Done   6 out of   6 | elapsed:   28.7s remaining:    0.0s\n"
     ]
    },
    {
     "name": "stdout",
     "output_type": "stream",
     "text": [
      "[CV]  n_estimators=200, max_depth=3, min_child_weight=1, score=-0.055236492306, total=  16.3s\n",
      "[CV] n_estimators=200, max_depth=3, min_child_weight=1 ...............\n"
     ]
    },
    {
     "name": "stderr",
     "output_type": "stream",
     "text": [
      "[Parallel(n_jobs=1)]: Done   7 out of   7 | elapsed:   45.4s remaining:    0.0s\n"
     ]
    },
    {
     "name": "stdout",
     "output_type": "stream",
     "text": [
      "[CV]  n_estimators=200, max_depth=3, min_child_weight=1, score=-0.0526209697127, total=  16.2s\n",
      "[CV] n_estimators=200, max_depth=3, min_child_weight=1 ...............\n"
     ]
    },
    {
     "name": "stderr",
     "output_type": "stream",
     "text": [
      "[Parallel(n_jobs=1)]: Done   8 out of   8 | elapsed:  1.0min remaining:    0.0s\n"
     ]
    },
    {
     "name": "stdout",
     "output_type": "stream",
     "text": [
      "[CV]  n_estimators=200, max_depth=3, min_child_weight=1, score=-0.0532585866749, total=  16.4s\n",
      "[CV] n_estimators=1000, max_depth=3, min_child_weight=1 ..............\n"
     ]
    },
    {
     "name": "stderr",
     "output_type": "stream",
     "text": [
      "[Parallel(n_jobs=1)]: Done   9 out of   9 | elapsed:  1.3min remaining:    0.0s\n"
     ]
    },
    {
     "name": "stdout",
     "output_type": "stream",
     "text": [
      "[CV]  n_estimators=1000, max_depth=3, min_child_weight=1, score=-0.0565119758248, total= 1.3min\n",
      "[CV] n_estimators=1000, max_depth=3, min_child_weight=1 ..............\n",
      "[CV]  n_estimators=1000, max_depth=3, min_child_weight=1, score=-0.0529724992812, total= 1.3min\n",
      "[CV] n_estimators=1000, max_depth=3, min_child_weight=1 ..............\n",
      "[CV]  n_estimators=1000, max_depth=3, min_child_weight=1, score=-0.0565079860389, total= 1.4min\n",
      "[CV] n_estimators=10, max_depth=3, min_child_weight=3 ................\n",
      "[CV]  n_estimators=10, max_depth=3, min_child_weight=3, score=-0.17781957984, total=   0.9s\n",
      "[CV] n_estimators=10, max_depth=3, min_child_weight=3 ................\n",
      "[CV]  n_estimators=10, max_depth=3, min_child_weight=3, score=-0.179844483733, total=   0.9s\n",
      "[CV] n_estimators=10, max_depth=3, min_child_weight=3 ................\n",
      "[CV]  n_estimators=10, max_depth=3, min_child_weight=3, score=-0.172812178731, total=   0.9s\n",
      "[CV] n_estimators=100, max_depth=3, min_child_weight=3 ...............\n",
      "[CV]  n_estimators=100, max_depth=3, min_child_weight=3, score=-0.0549831204116, total=   8.1s\n",
      "[CV] n_estimators=100, max_depth=3, min_child_weight=3 ...............\n",
      "[CV]  n_estimators=100, max_depth=3, min_child_weight=3, score=-0.0525969713926, total=   8.4s\n",
      "[CV] n_estimators=100, max_depth=3, min_child_weight=3 ...............\n",
      "[CV]  n_estimators=100, max_depth=3, min_child_weight=3, score=-0.0519912391901, total=   8.2s\n",
      "[CV] n_estimators=200, max_depth=3, min_child_weight=3 ...............\n",
      "[CV]  n_estimators=200, max_depth=3, min_child_weight=3, score=-0.0552206635475, total=  16.1s\n",
      "[CV] n_estimators=200, max_depth=3, min_child_weight=3 ...............\n",
      "[CV]  n_estimators=200, max_depth=3, min_child_weight=3, score=-0.0526289716363, total=  16.3s\n",
      "[CV] n_estimators=200, max_depth=3, min_child_weight=3 ...............\n",
      "[CV]  n_estimators=200, max_depth=3, min_child_weight=3, score=-0.0533606745303, total=  16.4s\n",
      "[CV] n_estimators=1000, max_depth=3, min_child_weight=3 ..............\n",
      "[CV]  n_estimators=1000, max_depth=3, min_child_weight=3, score=-0.0565072149038, total= 1.3min\n",
      "[CV] n_estimators=1000, max_depth=3, min_child_weight=3 ..............\n",
      "[CV]  n_estimators=1000, max_depth=3, min_child_weight=3, score=-0.0529606044292, total= 1.3min\n",
      "[CV] n_estimators=1000, max_depth=3, min_child_weight=3 ..............\n",
      "[CV]  n_estimators=1000, max_depth=3, min_child_weight=3, score=-0.0573463663459, total= 1.4min\n",
      "[CV] n_estimators=10, max_depth=3, min_child_weight=5 ................\n",
      "[CV]  n_estimators=10, max_depth=3, min_child_weight=5, score=-0.177927985787, total=   0.9s\n",
      "[CV] n_estimators=10, max_depth=3, min_child_weight=5 ................\n",
      "[CV]  n_estimators=10, max_depth=3, min_child_weight=5, score=-0.179861187935, total=   0.9s\n",
      "[CV] n_estimators=10, max_depth=3, min_child_weight=5 ................\n",
      "[CV]  n_estimators=10, max_depth=3, min_child_weight=5, score=-0.172814056277, total=   0.9s\n",
      "[CV] n_estimators=100, max_depth=3, min_child_weight=5 ...............\n",
      "[CV]  n_estimators=100, max_depth=3, min_child_weight=5, score=-0.054963927716, total=   8.1s\n",
      "[CV] n_estimators=100, max_depth=3, min_child_weight=5 ...............\n",
      "[CV]  n_estimators=100, max_depth=3, min_child_weight=5, score=-0.0525881238282, total=   8.4s\n",
      "[CV] n_estimators=100, max_depth=3, min_child_weight=5 ...............\n",
      "[CV]  n_estimators=100, max_depth=3, min_child_weight=5, score=-0.0519607551396, total=   8.3s\n",
      "[CV] n_estimators=200, max_depth=3, min_child_weight=5 ...............\n",
      "[CV]  n_estimators=200, max_depth=3, min_child_weight=5, score=-0.0552274324, total=  16.3s\n",
      "[CV] n_estimators=200, max_depth=3, min_child_weight=5 ...............\n",
      "[CV]  n_estimators=200, max_depth=3, min_child_weight=5, score=-0.0526069737971, total=  16.3s\n",
      "[CV] n_estimators=200, max_depth=3, min_child_weight=5 ...............\n",
      "[CV]  n_estimators=200, max_depth=3, min_child_weight=5, score=-0.0535563379526, total=  16.3s\n",
      "[CV] n_estimators=1000, max_depth=3, min_child_weight=5 ..............\n",
      "[CV]  n_estimators=1000, max_depth=3, min_child_weight=5, score=-0.0564194321632, total= 1.4min\n",
      "[CV] n_estimators=1000, max_depth=3, min_child_weight=5 ..............\n",
      "[CV]  n_estimators=1000, max_depth=3, min_child_weight=5, score=-0.05298627913, total= 1.3min\n",
      "[CV] n_estimators=1000, max_depth=3, min_child_weight=5 ..............\n",
      "[CV]  n_estimators=1000, max_depth=3, min_child_weight=5, score=-0.055996350944, total= 1.3min\n",
      "[CV] n_estimators=10, max_depth=5, min_child_weight=1 ................\n",
      "[CV]  n_estimators=10, max_depth=5, min_child_weight=1, score=-0.17774514854, total=   1.5s\n",
      "[CV] n_estimators=10, max_depth=5, min_child_weight=1 ................\n",
      "[CV]  n_estimators=10, max_depth=5, min_child_weight=1, score=-0.179683223367, total=   1.5s\n",
      "[CV] n_estimators=10, max_depth=5, min_child_weight=1 ................\n",
      "[CV]  n_estimators=10, max_depth=5, min_child_weight=1, score=-0.172939330339, total=   1.5s\n",
      "[CV] n_estimators=100, max_depth=5, min_child_weight=1 ...............\n",
      "[CV]  n_estimators=100, max_depth=5, min_child_weight=1, score=-0.0551538690925, total=  13.5s\n",
      "[CV] n_estimators=100, max_depth=5, min_child_weight=1 ...............\n",
      "[CV]  n_estimators=100, max_depth=5, min_child_weight=1, score=-0.0525717511773, total=  13.4s\n",
      "[CV] n_estimators=100, max_depth=5, min_child_weight=1 ...............\n",
      "[CV]  n_estimators=100, max_depth=5, min_child_weight=1, score=-0.0562264621258, total=  13.2s\n",
      "[CV] n_estimators=200, max_depth=5, min_child_weight=1 ...............\n",
      "[CV]  n_estimators=200, max_depth=5, min_child_weight=1, score=-0.0559467375278, total=  26.7s\n",
      "[CV] n_estimators=200, max_depth=5, min_child_weight=1 ...............\n",
      "[CV]  n_estimators=200, max_depth=5, min_child_weight=1, score=-0.0527055896819, total=  26.6s\n",
      "[CV] n_estimators=200, max_depth=5, min_child_weight=1 ...............\n",
      "[CV]  n_estimators=200, max_depth=5, min_child_weight=1, score=-0.0570129714906, total=  26.5s\n",
      "[CV] n_estimators=1000, max_depth=5, min_child_weight=1 ..............\n",
      "[CV]  n_estimators=1000, max_depth=5, min_child_weight=1, score=-0.0578175336123, total= 2.2min\n",
      "[CV] n_estimators=1000, max_depth=5, min_child_weight=1 ..............\n",
      "[CV]  n_estimators=1000, max_depth=5, min_child_weight=1, score=-0.0537554323673, total= 2.2min\n",
      "[CV] n_estimators=1000, max_depth=5, min_child_weight=1 ..............\n",
      "[CV]  n_estimators=1000, max_depth=5, min_child_weight=1, score=-0.0652676746249, total= 2.2min\n",
      "[CV] n_estimators=10, max_depth=5, min_child_weight=3 ................\n",
      "[CV]  n_estimators=10, max_depth=5, min_child_weight=3, score=-0.177590355277, total=   1.5s\n",
      "[CV] n_estimators=10, max_depth=5, min_child_weight=3 ................\n",
      "[CV]  n_estimators=10, max_depth=5, min_child_weight=3, score=-0.17988678813, total=   1.5s\n",
      "[CV] n_estimators=10, max_depth=5, min_child_weight=3 ................\n",
      "[CV]  n_estimators=10, max_depth=5, min_child_weight=3, score=-0.172934785485, total=   1.5s\n",
      "[CV] n_estimators=100, max_depth=5, min_child_weight=3 ...............\n",
      "[CV]  n_estimators=100, max_depth=5, min_child_weight=3, score=-0.0552348308265, total=  13.3s\n",
      "[CV] n_estimators=100, max_depth=5, min_child_weight=3 ...............\n",
      "[CV]  n_estimators=100, max_depth=5, min_child_weight=3, score=-0.0526753291488, total=  13.3s\n",
      "[CV] n_estimators=100, max_depth=5, min_child_weight=3 ...............\n",
      "[CV]  n_estimators=100, max_depth=5, min_child_weight=3, score=-0.0547985509038, total=  13.5s\n",
      "[CV] n_estimators=200, max_depth=5, min_child_weight=3 ...............\n",
      "[CV]  n_estimators=200, max_depth=5, min_child_weight=3, score=-0.0555280745029, total=  26.4s\n",
      "[CV] n_estimators=200, max_depth=5, min_child_weight=3 ...............\n",
      "[CV]  n_estimators=200, max_depth=5, min_child_weight=3, score=-0.0527811013162, total=  26.4s\n",
      "[CV] n_estimators=200, max_depth=5, min_child_weight=3 ...............\n",
      "[CV]  n_estimators=200, max_depth=5, min_child_weight=3, score=-0.0552855059505, total=  26.4s\n",
      "[CV] n_estimators=1000, max_depth=5, min_child_weight=3 ..............\n",
      "[CV]  n_estimators=1000, max_depth=5, min_child_weight=3, score=-0.0579086281359, total= 2.2min\n",
      "[CV] n_estimators=1000, max_depth=5, min_child_weight=3 ..............\n",
      "[CV]  n_estimators=1000, max_depth=5, min_child_weight=3, score=-0.0539195761085, total= 2.2min\n",
      "[CV] n_estimators=1000, max_depth=5, min_child_weight=3 ..............\n"
     ]
    },
    {
     "name": "stdout",
     "output_type": "stream",
     "text": [
      "[CV]  n_estimators=1000, max_depth=5, min_child_weight=3, score=-0.0643947273493, total= 2.2min\n",
      "[CV] n_estimators=10, max_depth=5, min_child_weight=5 ................\n",
      "[CV]  n_estimators=10, max_depth=5, min_child_weight=5, score=-0.177612781525, total=   1.5s\n",
      "[CV] n_estimators=10, max_depth=5, min_child_weight=5 ................\n",
      "[CV]  n_estimators=10, max_depth=5, min_child_weight=5, score=-0.179691776633, total=   1.5s\n",
      "[CV] n_estimators=10, max_depth=5, min_child_weight=5 ................\n",
      "[CV]  n_estimators=10, max_depth=5, min_child_weight=5, score=-0.172898605466, total=   1.4s\n",
      "[CV] n_estimators=100, max_depth=5, min_child_weight=5 ...............\n",
      "[CV]  n_estimators=100, max_depth=5, min_child_weight=5, score=-0.055146202445, total=  13.7s\n",
      "[CV] n_estimators=100, max_depth=5, min_child_weight=5 ...............\n",
      "[CV]  n_estimators=100, max_depth=5, min_child_weight=5, score=-0.0526128932834, total=  13.3s\n",
      "[CV] n_estimators=100, max_depth=5, min_child_weight=5 ...............\n",
      "[CV]  n_estimators=100, max_depth=5, min_child_weight=5, score=-0.0549260303378, total=  13.2s\n",
      "[CV] n_estimators=200, max_depth=5, min_child_weight=5 ...............\n",
      "[CV]  n_estimators=200, max_depth=5, min_child_weight=5, score=-0.0555377043784, total=  26.2s\n",
      "[CV] n_estimators=200, max_depth=5, min_child_weight=5 ...............\n",
      "[CV]  n_estimators=200, max_depth=5, min_child_weight=5, score=-0.0527477748692, total=  26.2s\n",
      "[CV] n_estimators=200, max_depth=5, min_child_weight=5 ...............\n",
      "[CV]  n_estimators=200, max_depth=5, min_child_weight=5, score=-0.0552731715143, total=  26.6s\n",
      "[CV] n_estimators=1000, max_depth=5, min_child_weight=5 ..............\n",
      "[CV]  n_estimators=1000, max_depth=5, min_child_weight=5, score=-0.0576747991145, total= 2.2min\n",
      "[CV] n_estimators=1000, max_depth=5, min_child_weight=5 ..............\n",
      "[CV]  n_estimators=1000, max_depth=5, min_child_weight=5, score=-0.0538711249828, total= 2.2min\n",
      "[CV] n_estimators=1000, max_depth=5, min_child_weight=5 ..............\n",
      "[CV]  n_estimators=1000, max_depth=5, min_child_weight=5, score=-0.0641535744071, total= 2.2min\n",
      "[CV] n_estimators=10, max_depth=7, min_child_weight=1 ................\n",
      "[CV]  n_estimators=10, max_depth=7, min_child_weight=1, score=-0.177402064204, total=   2.0s\n",
      "[CV] n_estimators=10, max_depth=7, min_child_weight=1 ................\n",
      "[CV]  n_estimators=10, max_depth=7, min_child_weight=1, score=-0.180121287704, total=   2.0s\n",
      "[CV] n_estimators=10, max_depth=7, min_child_weight=1 ................\n",
      "[CV]  n_estimators=10, max_depth=7, min_child_weight=1, score=-0.173450380564, total=   2.0s\n",
      "[CV] n_estimators=100, max_depth=7, min_child_weight=1 ...............\n",
      "[CV]  n_estimators=100, max_depth=7, min_child_weight=1, score=-0.0558061078191, total=  19.0s\n",
      "[CV] n_estimators=100, max_depth=7, min_child_weight=1 ...............\n",
      "[CV]  n_estimators=100, max_depth=7, min_child_weight=1, score=-0.0528190881014, total=  19.0s\n",
      "[CV] n_estimators=100, max_depth=7, min_child_weight=1 ...............\n",
      "[CV]  n_estimators=100, max_depth=7, min_child_weight=1, score=-0.0557885877788, total=  18.9s\n",
      "[CV] n_estimators=200, max_depth=7, min_child_weight=1 ...............\n",
      "[CV]  n_estimators=200, max_depth=7, min_child_weight=1, score=-0.0567766018212, total=  37.5s\n",
      "[CV] n_estimators=200, max_depth=7, min_child_weight=1 ...............\n",
      "[CV]  n_estimators=200, max_depth=7, min_child_weight=1, score=-0.0530698746443, total=  37.2s\n",
      "[CV] n_estimators=200, max_depth=7, min_child_weight=1 ...............\n",
      "[CV]  n_estimators=200, max_depth=7, min_child_weight=1, score=-0.0563567727804, total=  37.6s\n",
      "[CV] n_estimators=1000, max_depth=7, min_child_weight=1 ..............\n",
      "[CV]  n_estimators=1000, max_depth=7, min_child_weight=1, score=-0.0600114800036, total= 3.1min\n",
      "[CV] n_estimators=1000, max_depth=7, min_child_weight=1 ..............\n",
      "[CV]  n_estimators=1000, max_depth=7, min_child_weight=1, score=-0.0549939796329, total= 3.1min\n",
      "[CV] n_estimators=1000, max_depth=7, min_child_weight=1 ..............\n",
      "[CV]  n_estimators=1000, max_depth=7, min_child_weight=1, score=-0.0718531906605, total= 3.1min\n",
      "[CV] n_estimators=10, max_depth=7, min_child_weight=3 ................\n",
      "[CV]  n_estimators=10, max_depth=7, min_child_weight=3, score=-0.177692264318, total=   1.9s\n",
      "[CV] n_estimators=10, max_depth=7, min_child_weight=3 ................\n",
      "[CV]  n_estimators=10, max_depth=7, min_child_weight=3, score=-0.179873675108, total=   2.0s\n",
      "[CV] n_estimators=10, max_depth=7, min_child_weight=3 ................\n",
      "[CV]  n_estimators=10, max_depth=7, min_child_weight=3, score=-0.174876376987, total=   2.0s\n",
      "[CV] n_estimators=100, max_depth=7, min_child_weight=3 ...............\n",
      "[CV]  n_estimators=100, max_depth=7, min_child_weight=3, score=-0.0563063584268, total=  18.6s\n",
      "[CV] n_estimators=100, max_depth=7, min_child_weight=3 ...............\n",
      "[CV]  n_estimators=100, max_depth=7, min_child_weight=3, score=-0.0528270751238, total=  18.9s\n",
      "[CV] n_estimators=100, max_depth=7, min_child_weight=3 ...............\n",
      "[CV]  n_estimators=100, max_depth=7, min_child_weight=3, score=-0.0548673942685, total=  19.0s\n",
      "[CV] n_estimators=200, max_depth=7, min_child_weight=3 ...............\n",
      "[CV]  n_estimators=200, max_depth=7, min_child_weight=3, score=-0.0569445677102, total=  37.0s\n",
      "[CV] n_estimators=200, max_depth=7, min_child_weight=3 ...............\n",
      "[CV]  n_estimators=200, max_depth=7, min_child_weight=3, score=-0.0531936213374, total=  37.1s\n",
      "[CV] n_estimators=200, max_depth=7, min_child_weight=3 ...............\n",
      "[CV]  n_estimators=200, max_depth=7, min_child_weight=3, score=-0.0569362156093, total=  37.1s\n",
      "[CV] n_estimators=1000, max_depth=7, min_child_weight=3 ..............\n",
      "[CV]  n_estimators=1000, max_depth=7, min_child_weight=3, score=-0.0606062225997, total= 3.1min\n",
      "[CV] n_estimators=1000, max_depth=7, min_child_weight=3 ..............\n",
      "[CV]  n_estimators=1000, max_depth=7, min_child_weight=3, score=-0.0551380291581, total= 3.1min\n",
      "[CV] n_estimators=1000, max_depth=7, min_child_weight=3 ..............\n",
      "[CV]  n_estimators=1000, max_depth=7, min_child_weight=3, score=-0.0705697238445, total= 3.1min\n",
      "[CV] n_estimators=10, max_depth=7, min_child_weight=5 ................\n",
      "[CV]  n_estimators=10, max_depth=7, min_child_weight=5, score=-0.177641794086, total=   2.0s\n",
      "[CV] n_estimators=10, max_depth=7, min_child_weight=5 ................\n",
      "[CV]  n_estimators=10, max_depth=7, min_child_weight=5, score=-0.179950773716, total=   2.0s\n",
      "[CV] n_estimators=10, max_depth=7, min_child_weight=5 ................\n",
      "[CV]  n_estimators=10, max_depth=7, min_child_weight=5, score=-0.172928765416, total=   2.0s\n",
      "[CV] n_estimators=100, max_depth=7, min_child_weight=5 ...............\n",
      "[CV]  n_estimators=100, max_depth=7, min_child_weight=5, score=-0.056061565876, total=  18.5s\n",
      "[CV] n_estimators=100, max_depth=7, min_child_weight=5 ...............\n",
      "[CV]  n_estimators=100, max_depth=7, min_child_weight=5, score=-0.0528534501791, total=  18.6s\n",
      "[CV] n_estimators=100, max_depth=7, min_child_weight=5 ...............\n",
      "[CV]  n_estimators=100, max_depth=7, min_child_weight=5, score=-0.0565699674189, total=  18.6s\n",
      "[CV] n_estimators=200, max_depth=7, min_child_weight=5 ...............\n",
      "[CV]  n_estimators=200, max_depth=7, min_child_weight=5, score=-0.0567595213652, total=  36.9s\n",
      "[CV] n_estimators=200, max_depth=7, min_child_weight=5 ...............\n",
      "[CV]  n_estimators=200, max_depth=7, min_child_weight=5, score=-0.0531014427543, total=  37.6s\n",
      "[CV] n_estimators=200, max_depth=7, min_child_weight=5 ...............\n",
      "[CV]  n_estimators=200, max_depth=7, min_child_weight=5, score=-0.0588128603995, total=  37.0s\n",
      "[CV] n_estimators=1000, max_depth=7, min_child_weight=5 ..............\n",
      "[CV]  n_estimators=1000, max_depth=7, min_child_weight=5, score=-0.0599942132831, total= 3.1min\n",
      "[CV] n_estimators=1000, max_depth=7, min_child_weight=5 ..............\n",
      "[CV]  n_estimators=1000, max_depth=7, min_child_weight=5, score=-0.0551142916083, total= 3.1min\n",
      "[CV] n_estimators=1000, max_depth=7, min_child_weight=5 ..............\n",
      "[CV]  n_estimators=1000, max_depth=7, min_child_weight=5, score=-0.0711484178901, total= 3.1min\n"
     ]
    },
    {
     "name": "stderr",
     "output_type": "stream",
     "text": [
      "[Parallel(n_jobs=1)]: Done 108 out of 108 | elapsed: 80.3min finished\n"
     ]
    },
    {
     "name": "stdout",
     "output_type": "stream",
     "text": [
      "Best Score- -0.053170955805\n",
      "Best Parameters- {'n_estimators': 100, 'max_depth': 3, 'min_child_weight': 5}\n",
      "Best Estimator- XGBRegressor(base_score=0.5, booster='gbtree', colsample_bylevel=1,\n",
      "       colsample_bytree=1, gamma=0, learning_rate=0.1, max_delta_step=0,\n",
      "       max_depth=3, min_child_weight=5, missing=None, n_estimators=100,\n",
      "       n_jobs=1, nthread=None, objective='reg:linear', random_state=0,\n",
      "       reg_alpha=0, reg_lambda=1, scale_pos_weight=1, seed=None,\n",
      "       silent=True, subsample=1)\n",
      "--------------------------------------------------\n"
     ]
    }
   ],
   "source": [
    "print(\"Running Parameter optimization on the Best Model\")\n",
    "\n",
    "params = {  \n",
    "            \"n_estimators\": [10,100,200,1000],\n",
    "            \"max_depth\": [3,5,7],\n",
    "            \"min_child_weight\": [1,3,5]\n",
    "         }\n",
    "\n",
    "xgb_model = XGBRegressor()  \n",
    "xgb_cv    = GridSearchCV(xgb_model,params,verbose = 10,scoring='neg_mean_absolute_error')\n",
    "xgb_cv.fit(train, test)  \n",
    "\n",
    "print 'Best Score-', xgb_cv.best_score_\n",
    "print 'Best Parameters-', xgb_cv.best_params_\n",
    "print 'Best Estimator-', xgb_cv.best_estimator_\n",
    "print'--------------------------------------------------'"
   ]
  },
  {
   "cell_type": "markdown",
   "metadata": {},
   "source": [
    "### Cross Validation and Feature Importances"
   ]
  },
  {
   "cell_type": "code",
   "execution_count": 7,
   "metadata": {},
   "outputs": [
    {
     "name": "stdout",
     "output_type": "stream",
     "text": [
      "Cross validation again using best estimated parameters\n",
      "Printing Final Score\n",
      "MAE: 0.05 (+/- 0.00)\n",
      "Printing Feature Importances\n",
      "[ 0.          0.02635432  0.0102489   0.          0.10395315  0.\n",
      "  0.00292826  0.02342606  0.00732064  0.07906296  0.07467057  0.04831625\n",
      "  0.02342606  0.02342606  0.          0.0204978   0.04245974  0.00292826\n",
      "  0.0204978   0.07906296  0.09809663  0.          0.13762811  0.0658858\n",
      "  0.04392387  0.03221083  0.03367496]\n"
     ]
    },
    {
     "data": {
      "image/png": "[encoded data removed]",
      "text/plain": [
       "<matplotlib.figure.Figure at 0x1148b46d0>"
      ]
     },
     "metadata": {},
     "output_type": "display_data"
    },
    {
     "data": {
      "image/png": "[encoded data removed]",
      "text/plain": [
       "<matplotlib.figure.Figure at 0x114ccba50>"
      ]
     },
     "metadata": {},
     "output_type": "display_data"
    },
    {
     "name": "stdout",
     "output_type": "stream",
     "text": [
      "--------------------------------------------------\n"
     ]
    }
   ],
   "source": [
    "#Importing xgboost\n",
    "from xgboost import XGBRegressor\n",
    "from xgboost import plot_importance\n",
    "\n",
    "print(\"Cross validation again using best estimated parameters\")\n",
    "clf = XGBRegressor(learning_rate =0.1,max_depth= 3,min_child_weight=1,n_estimators=100)\n",
    "scores = cross_validation.cross_val_score(clf, train, test, cv=10,  scoring='neg_mean_absolute_error')\n",
    "print(\"Printing Final Score\")\n",
    "print(\"MAE: %0.2f (+/- %0.2f)\" % (abs(scores.mean()), scores.std()*2))\n",
    "\n",
    "clf.fit(train, test)  \n",
    "print(\"Printing Feature Importances\")\n",
    "print clf.feature_importances_\n",
    "plt.bar(range(len(clf.feature_importances_)),clf.feature_importances_)\n",
    "plt.show()\n",
    "\n",
    "plot_importance(clf)\n",
    "plt.show()\n",
    "print'--------------------------------------------------'"
   ]
  }
 ],
 "metadata": {
  "kernelspec": {
   "display_name": "Python 2",
   "language": "python",
   "name": "python2"
  },
  "language_info": {
   "codemirror_mode": {
    "name": "ipython",
    "version": 2
   },
   "file_extension": ".py",
   "mimetype": "text/x-python",
   "name": "python",
   "nbconvert_exporter": "python",
   "pygments_lexer": "ipython2",
   "version": "2.7.13"
  }
 },
 "nbformat": 4,
 "nbformat_minor": 2
}
